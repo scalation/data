{
 "cells": [
  {
   "cell_type": "code",
   "execution_count": 29,
   "id": "7a441ea6-92c4-4af4-8c62-6064b7bb0399",
   "metadata": {},
   "outputs": [
    {
     "name": "stdout",
     "output_type": "stream",
     "text": [
      "The autoreload extension is already loaded. To reload it, use:\n",
      "  %reload_ext autoreload\n"
     ]
    }
   ],
   "source": [
    "from neo4j import GraphDatabase\n",
    "from sklearn.manifold import TSNE\n",
    "import numpy as np\n",
    "import altair as alt\n",
    "import pandas as pd\n",
    "\n",
    "%load_ext autoreload\n",
    "%autoreload 2"
   ]
  },
  {
   "cell_type": "code",
   "execution_count": 30,
   "id": "22261af9-5644-4f23-96c7-54b518e1983b",
   "metadata": {},
   "outputs": [],
   "source": [
    "class Neo4jConnection:\n",
    "    \n",
    "    def __init__(self, uri, user, pwd):\n",
    "        self.__uri = uri\n",
    "        self.__user = user\n",
    "        self.__pwd = pwd\n",
    "        self.__driver = None\n",
    "        try:\n",
    "            self.__driver = GraphDatabase.driver(self.__uri, auth=(self.__user, self.__pwd))\n",
    "        except Exception as e:\n",
    "            print(\"Failed to create the driver:\", e)\n",
    "        \n",
    "    def close(self):\n",
    "        if self.__driver is not None:\n",
    "            self.__driver.close()\n",
    "        \n",
    "    def query(self, query, parameters=None, db=None):\n",
    "        assert self.__driver is not None, \"Driver not initialized!\"\n",
    "        session = None\n",
    "        response = None\n",
    "        try: \n",
    "            session = self.__driver.session(database=db) if db is not None else self.__driver.session() \n",
    "            response = list(session.run(query, parameters))\n",
    "        except Exception as e:\n",
    "            print(\"Query failed:\", e)\n",
    "        finally: \n",
    "            if session is not None:\n",
    "                session.close()\n",
    "        return response"
   ]
  },
  {
   "cell_type": "code",
   "execution_count": 31,
   "id": "6e90d594-3b02-487f-b7e0-84d8d75150a2",
   "metadata": {},
   "outputs": [],
   "source": [
    "uri = 'neo4j://localhost:7687'\n",
    "pwd = 'Covid-19KG'\n",
    "\n",
    "conn = Neo4jConnection(uri=uri, user=\"neo4j\", pwd=pwd)\n"
   ]
  },
  {
   "cell_type": "code",
   "execution_count": 32,
   "id": "e20af474-08af-407c-981c-5f15cc4e59de",
   "metadata": {},
   "outputs": [
    {
     "data": {
      "text/plain": [
       "[<Record count=51>]"
      ]
     },
     "execution_count": 32,
     "metadata": {},
     "output_type": "execute_result"
    }
   ],
   "source": [
    "conn.query('MATCH (n:State) RETURN COUNT(n) AS count')"
   ]
  },
  {
   "cell_type": "code",
   "execution_count": 33,
   "id": "bd524159-c084-4246-a611-6df0b55b08e8",
   "metadata": {},
   "outputs": [
    {
     "data": {
      "text/html": [
       "<div>\n",
       "<style scoped>\n",
       "    .dataframe tbody tr th:only-of-type {\n",
       "        vertical-align: middle;\n",
       "    }\n",
       "\n",
       "    .dataframe tbody tr th {\n",
       "        vertical-align: top;\n",
       "    }\n",
       "\n",
       "    .dataframe thead th {\n",
       "        text-align: right;\n",
       "    }\n",
       "</style>\n",
       "<table border=\"1\" class=\"dataframe\">\n",
       "  <thead>\n",
       "    <tr style=\"text-align: right;\">\n",
       "      <th></th>\n",
       "      <th>state</th>\n",
       "      <th>embedding_state</th>\n",
       "    </tr>\n",
       "  </thead>\n",
       "  <tbody>\n",
       "    <tr>\n",
       "      <th>0</th>\n",
       "      <td>AR</td>\n",
       "      <td>[-0.012031819315977998, -0.01122531718244025, ...</td>\n",
       "    </tr>\n",
       "    <tr>\n",
       "      <th>1</th>\n",
       "      <td>DC</td>\n",
       "      <td>[-0.009264488459663477, -0.0088018267925782, -...</td>\n",
       "    </tr>\n",
       "    <tr>\n",
       "      <th>2</th>\n",
       "      <td>DE</td>\n",
       "      <td>[-0.024627740929851226, -0.023031867375497145,...</td>\n",
       "    </tr>\n",
       "    <tr>\n",
       "      <th>3</th>\n",
       "      <td>FL</td>\n",
       "      <td>[-0.01164724698277438, -0.011000245209659055, ...</td>\n",
       "    </tr>\n",
       "    <tr>\n",
       "      <th>4</th>\n",
       "      <td>GA</td>\n",
       "      <td>[-0.01542598052334032, -0.014219058976192005, ...</td>\n",
       "    </tr>\n",
       "  </tbody>\n",
       "</table>\n",
       "</div>"
      ],
      "text/plain": [
       "  state                                    embedding_state\n",
       "0    AR  [-0.012031819315977998, -0.01122531718244025, ...\n",
       "1    DC  [-0.009264488459663477, -0.0088018267925782, -...\n",
       "2    DE  [-0.024627740929851226, -0.023031867375497145,...\n",
       "3    FL  [-0.01164724698277438, -0.011000245209659055, ...\n",
       "4    GA  [-0.01542598052334032, -0.014219058976192005, ..."
      ]
     },
     "execution_count": 33,
     "metadata": {},
     "output_type": "execute_result"
    }
   ],
   "source": [
    "query = '''MATCH (s:State)\n",
    "           RETURN s.code AS state, s.embedding as embedding_state\n",
    "'''\n",
    "\n",
    "df = pd.DataFrame([dict(_) for _ in conn.query(query)])\n",
    "df.head()"
   ]
  },
  {
   "cell_type": "code",
   "execution_count": 34,
   "id": "dce62573-40e7-40c0-a163-eca8259ac046",
   "metadata": {},
   "outputs": [
    {
     "data": {
      "text/plain": [
       "64"
      ]
     },
     "execution_count": 34,
     "metadata": {},
     "output_type": "execute_result"
    }
   ],
   "source": [
    "len(df.embedding_state[0])"
   ]
  },
  {
   "cell_type": "code",
   "execution_count": 35,
   "id": "b98301cb-4492-4383-abfe-e552cf60f627",
   "metadata": {},
   "outputs": [
    {
     "name": "stderr",
     "output_type": "stream",
     "text": [
      "/Users/avranilbasu/opt/miniconda3/envs/ceid/lib/python3.9/site-packages/sklearn/manifold/_t_sne.py:780: FutureWarning: The default initialization in TSNE will change from 'random' to 'pca' in 1.2.\n",
      "  warnings.warn(\n",
      "/Users/avranilbasu/opt/miniconda3/envs/ceid/lib/python3.9/site-packages/sklearn/manifold/_t_sne.py:790: FutureWarning: The default learning rate in TSNE will change from 200.0 to 'auto' in 1.2.\n",
      "  warnings.warn(\n"
     ]
    },
    {
     "data": {
      "text/html": [
       "<div>\n",
       "<style scoped>\n",
       "    .dataframe tbody tr th:only-of-type {\n",
       "        vertical-align: middle;\n",
       "    }\n",
       "\n",
       "    .dataframe tbody tr th {\n",
       "        vertical-align: top;\n",
       "    }\n",
       "\n",
       "    .dataframe thead th {\n",
       "        text-align: right;\n",
       "    }\n",
       "</style>\n",
       "<table border=\"1\" class=\"dataframe\">\n",
       "  <thead>\n",
       "    <tr style=\"text-align: right;\">\n",
       "      <th></th>\n",
       "      <th>state</th>\n",
       "      <th>x</th>\n",
       "      <th>y</th>\n",
       "    </tr>\n",
       "  </thead>\n",
       "  <tbody>\n",
       "    <tr>\n",
       "      <th>0</th>\n",
       "      <td>AR</td>\n",
       "      <td>-31.454567</td>\n",
       "      <td>7.593030</td>\n",
       "    </tr>\n",
       "    <tr>\n",
       "      <th>1</th>\n",
       "      <td>DC</td>\n",
       "      <td>-50.578136</td>\n",
       "      <td>17.923983</td>\n",
       "    </tr>\n",
       "    <tr>\n",
       "      <th>2</th>\n",
       "      <td>DE</td>\n",
       "      <td>-49.716061</td>\n",
       "      <td>53.160572</td>\n",
       "    </tr>\n",
       "    <tr>\n",
       "      <th>3</th>\n",
       "      <td>FL</td>\n",
       "      <td>-56.712261</td>\n",
       "      <td>69.686607</td>\n",
       "    </tr>\n",
       "    <tr>\n",
       "      <th>4</th>\n",
       "      <td>GA</td>\n",
       "      <td>-23.678928</td>\n",
       "      <td>78.954315</td>\n",
       "    </tr>\n",
       "  </tbody>\n",
       "</table>\n",
       "</div>"
      ],
      "text/plain": [
       "  state          x          y\n",
       "0    AR -31.454567   7.593030\n",
       "1    DC -50.578136  17.923983\n",
       "2    DE -49.716061  53.160572\n",
       "3    FL -56.712261  69.686607\n",
       "4    GA -23.678928  78.954315"
      ]
     },
     "execution_count": 35,
     "metadata": {},
     "output_type": "execute_result"
    }
   ],
   "source": [
    "X_embedded = TSNE(n_components=2, random_state=6).fit_transform(list(df.embedding_state))\n",
    "\n",
    "places = df.state\n",
    "tsne_df = pd.DataFrame(data = {\n",
    "    \"state\": places,\n",
    "    \"x\": [value[0] for value in X_embedded],\n",
    "    \"y\": [value[1] for value in X_embedded]\n",
    "})\n",
    "tsne_df.head()"
   ]
  },
  {
   "cell_type": "code",
   "execution_count": 36,
   "id": "b52ec2c4-bd55-4af7-987a-93ac38b988c8",
   "metadata": {},
   "outputs": [
    {
     "data": {
      "text/plain": [
       "(51, 3)"
      ]
     },
     "execution_count": 36,
     "metadata": {},
     "output_type": "execute_result"
    }
   ],
   "source": [
    "tsne_df.shape"
   ]
  },
  {
   "cell_type": "code",
   "execution_count": 37,
   "id": "fb282e11-cd4d-4eaf-aad8-1e6adfe09595",
   "metadata": {},
   "outputs": [
    {
     "data": {
      "text/html": [
       "\n",
       "<div id=\"altair-viz-edf39490b5e6410fb16bc070533ffb9f\"></div>\n",
       "<script type=\"text/javascript\">\n",
       "  var VEGA_DEBUG = (typeof VEGA_DEBUG == \"undefined\") ? {} : VEGA_DEBUG;\n",
       "  (function(spec, embedOpt){\n",
       "    let outputDiv = document.currentScript.previousElementSibling;\n",
       "    if (outputDiv.id !== \"altair-viz-edf39490b5e6410fb16bc070533ffb9f\") {\n",
       "      outputDiv = document.getElementById(\"altair-viz-edf39490b5e6410fb16bc070533ffb9f\");\n",
       "    }\n",
       "    const paths = {\n",
       "      \"vega\": \"https://cdn.jsdelivr.net/npm//vega@5?noext\",\n",
       "      \"vega-lib\": \"https://cdn.jsdelivr.net/npm//vega-lib?noext\",\n",
       "      \"vega-lite\": \"https://cdn.jsdelivr.net/npm//vega-lite@4.17.0?noext\",\n",
       "      \"vega-embed\": \"https://cdn.jsdelivr.net/npm//vega-embed@6?noext\",\n",
       "    };\n",
       "\n",
       "    function maybeLoadScript(lib, version) {\n",
       "      var key = `${lib.replace(\"-\", \"\")}_version`;\n",
       "      return (VEGA_DEBUG[key] == version) ?\n",
       "        Promise.resolve(paths[lib]) :\n",
       "        new Promise(function(resolve, reject) {\n",
       "          var s = document.createElement('script');\n",
       "          document.getElementsByTagName(\"head\")[0].appendChild(s);\n",
       "          s.async = true;\n",
       "          s.onload = () => {\n",
       "            VEGA_DEBUG[key] = version;\n",
       "            return resolve(paths[lib]);\n",
       "          };\n",
       "          s.onerror = () => reject(`Error loading script: ${paths[lib]}`);\n",
       "          s.src = paths[lib];\n",
       "        });\n",
       "    }\n",
       "\n",
       "    function showError(err) {\n",
       "      outputDiv.innerHTML = `<div class=\"error\" style=\"color:red;\">${err}</div>`;\n",
       "      throw err;\n",
       "    }\n",
       "\n",
       "    function displayChart(vegaEmbed) {\n",
       "      vegaEmbed(outputDiv, spec, embedOpt)\n",
       "        .catch(err => showError(`Javascript Error: ${err.message}<br>This usually means there's a typo in your chart specification. See the javascript console for the full traceback.`));\n",
       "    }\n",
       "\n",
       "    if(typeof define === \"function\" && define.amd) {\n",
       "      requirejs.config({paths});\n",
       "      require([\"vega-embed\"], displayChart, err => showError(`Error loading script: ${err.message}`));\n",
       "    } else {\n",
       "      maybeLoadScript(\"vega\", \"5\")\n",
       "        .then(() => maybeLoadScript(\"vega-lite\", \"4.17.0\"))\n",
       "        .then(() => maybeLoadScript(\"vega-embed\", \"6\"))\n",
       "        .catch(showError)\n",
       "        .then(() => displayChart(vegaEmbed));\n",
       "    }\n",
       "  })({\"config\": {\"view\": {\"continuousWidth\": 400, \"continuousHeight\": 300}}, \"data\": {\"name\": \"data-56b2fc9be72b9993bf46c163235a4337\"}, \"mark\": {\"type\": \"circle\", \"size\": 60}, \"encoding\": {\"color\": {\"field\": \"state\", \"type\": \"nominal\"}, \"tooltip\": [{\"field\": \"state\", \"type\": \"nominal\"}], \"x\": {\"field\": \"x\", \"type\": \"quantitative\"}, \"y\": {\"field\": \"y\", \"type\": \"quantitative\"}}, \"height\": 400, \"width\": 700, \"$schema\": \"https://vega.github.io/schema/vega-lite/v4.17.0.json\", \"datasets\": {\"data-56b2fc9be72b9993bf46c163235a4337\": [{\"state\": \"AR\", \"x\": -31.454566955566406, \"y\": 7.5930304527282715}, {\"state\": \"DC\", \"x\": -50.5781364440918, \"y\": 17.923982620239258}, {\"state\": \"DE\", \"x\": -49.716060638427734, \"y\": 53.16057205200195}, {\"state\": \"FL\", \"x\": -56.71226119995117, \"y\": 69.68660736083984}, {\"state\": \"GA\", \"x\": -23.67892837524414, \"y\": 78.95431518554688}, {\"state\": \"KS\", \"x\": 71.8672866821289, \"y\": -78.45894622802734}, {\"state\": \"LA\", \"x\": 21.899864196777344, \"y\": 44.39227294921875}, {\"state\": \"MD\", \"x\": -4.468204498291016, \"y\": 28.334508895874023}, {\"state\": \"MO\", \"x\": 9.01272964477539, \"y\": 78.49665069580078}, {\"state\": \"MS\", \"x\": 54.79753112792969, \"y\": -71.89154052734375}, {\"state\": \"NC\", \"x\": 40.643653869628906, \"y\": -95.50402069091797}, {\"state\": \"OK\", \"x\": 42.56222152709961, \"y\": -41.2882194519043}, {\"state\": \"SC\", \"x\": -9.469033241271973, \"y\": 42.24814987182617}, {\"state\": \"TN\", \"x\": 6.858658313751221, \"y\": -78.8382797241211}, {\"state\": \"TX\", \"x\": -6.706353187561035, \"y\": 89.15635681152344}, {\"state\": \"WV\", \"x\": -38.93621063232422, \"y\": 69.99153137207031}, {\"state\": \"AL\", \"x\": 48.52671432495117, \"y\": -58.190799713134766}, {\"state\": \"CT\", \"x\": -18.0694637298584, \"y\": 18.07707405090332}, {\"state\": \"IA\", \"x\": 55.95561981201172, \"y\": -104.12655639648438}, {\"state\": \"IL\", \"x\": -21.95549774169922, \"y\": 33.400238037109375}, {\"state\": \"IN\", \"x\": -35.03329086303711, \"y\": 55.7384147644043}, {\"state\": \"ME\", \"x\": -9.490537643432617, \"y\": 56.59916687011719}, {\"state\": \"MI\", \"x\": 7.382035255432129, \"y\": -61.40584182739258}, {\"state\": \"MN\", \"x\": -22.974437713623047, \"y\": 48.26456832885742}, {\"state\": \"NE\", \"x\": -25.466228485107422, \"y\": 95.0841064453125}, {\"state\": \"NH\", \"x\": -43.5118293762207, \"y\": 85.89920806884766}, {\"state\": \"NJ\", \"x\": -37.55973815917969, \"y\": 40.52653121948242}, {\"state\": \"NY\", \"x\": 5.393883228302002, \"y\": 43.32622146606445}, {\"state\": \"OH\", \"x\": -35.17495346069336, \"y\": 25.328702926635742}, {\"state\": \"RI\", \"x\": 22.139690399169922, \"y\": -69.81858825683594}, {\"state\": \"VT\", \"x\": 71.27999114990234, \"y\": -96.03485107421875}, {\"state\": \"WI\", \"x\": 5.0782246589660645, \"y\": 59.60710144042969}, {\"state\": \"CA\", \"x\": -65.92536163330078, \"y\": 49.33663558959961}, {\"state\": \"CO\", \"x\": 56.039886474609375, \"y\": -87.3524169921875}, {\"state\": \"NM\", \"x\": -1.9951404333114624, \"y\": 11.329361915588379}, {\"state\": \"NV\", \"x\": 13.147210121154785, \"y\": 26.451438903808594}, {\"state\": \"UT\", \"x\": 13.688958168029785, \"y\": -94.34168243408203}, {\"state\": \"AZ\", \"x\": 42.12579345703125, \"y\": -80.86519622802734}, {\"state\": \"ID\", \"x\": -22.218841552734375, \"y\": 64.52348327636719}, {\"state\": \"MT\", \"x\": 33.11564636230469, \"y\": -54.632957458496094}, {\"state\": \"ND\", \"x\": 19.071208953857422, \"y\": -49.64210891723633}, {\"state\": \"OR\", \"x\": 21.587491989135742, \"y\": -32.284873962402344}, {\"state\": \"SD\", \"x\": 27.214914321899414, \"y\": -85.05181884765625}, {\"state\": \"WA\", \"x\": -7.381570816040039, \"y\": 72.1236572265625}, {\"state\": \"WY\", \"x\": 42.202125549316406, \"y\": -114.3822250366211}, {\"state\": \"HI\", \"x\": 67.79641723632812, \"y\": -61.49633026123047}, {\"state\": \"AK\", \"x\": 36.7036018371582, \"y\": -68.4086685180664}, {\"state\": \"KY\", \"x\": 27.056304931640625, \"y\": -104.28865051269531}, {\"state\": \"MA\", \"x\": -53.76676940917969, \"y\": 35.26441955566406}, {\"state\": \"PA\", \"x\": 59.94326400756836, \"y\": -46.419010162353516}, {\"state\": \"VA\", \"x\": 21.143625259399414, \"y\": 63.67947006225586}]}}, {\"mode\": \"vega-lite\"});\n",
       "</script>"
      ],
      "text/plain": [
       "alt.Chart(...)"
      ]
     },
     "execution_count": 37,
     "metadata": {},
     "output_type": "execute_result"
    }
   ],
   "source": [
    "alt.Chart(tsne_df).mark_circle(size=60).encode(\n",
    "    x='x',\n",
    "    y='y',\n",
    "    color='state',\n",
    "    tooltip=['state']\n",
    ").properties(width=700, height=400)"
   ]
  },
  {
   "cell_type": "code",
   "execution_count": null,
   "id": "d557b9e4-7200-41d0-88d4-8272ea83f531",
   "metadata": {},
   "outputs": [],
   "source": []
  },
  {
   "cell_type": "code",
   "execution_count": null,
   "id": "9edc5522-df49-455a-aa7f-4ea5b2ec3f69",
   "metadata": {},
   "outputs": [],
   "source": []
  },
  {
   "cell_type": "code",
   "execution_count": null,
   "id": "4279ca49-41ea-4498-8c62-7cf4803ae510",
   "metadata": {},
   "outputs": [],
   "source": []
  }
 ],
 "metadata": {
  "kernelspec": {
   "display_name": "ceid",
   "language": "python",
   "name": "ceid"
  },
  "language_info": {
   "codemirror_mode": {
    "name": "ipython",
    "version": 3
   },
   "file_extension": ".py",
   "mimetype": "text/x-python",
   "name": "python",
   "nbconvert_exporter": "python",
   "pygments_lexer": "ipython3",
   "version": "3.9.5"
  }
 },
 "nbformat": 4,
 "nbformat_minor": 5
}
