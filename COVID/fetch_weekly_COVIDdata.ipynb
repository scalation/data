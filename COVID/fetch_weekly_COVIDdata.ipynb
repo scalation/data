{
 "cells": [
  {
   "cell_type": "code",
   "execution_count": null,
   "id": "ba51fc70",
   "metadata": {},
   "outputs": [],
   "source": [
    "import pandas as pd\n",
    "from datetime import datetime\n",
    "\n",
    "owid_df = pd.read_csv(\"https://raw.githubusercontent.com/owid/covid-19-data/master/public/data/owid-covid-data.csv\")\n",
    "df = owid_df[owid_df[\"iso_code\"] == \"USA\"]\n",
    "df.reset_index()\n",
    "df = df.fillna(0)\n",
    "df.loc[:, 'date'] = pd.to_datetime(df['date'])\n",
    "df.set_index('date', inplace=True)\n",
    "df_weekly = df[[\n",
    " 'new_cases',\n",
    " 'new_deaths',\n",
    " 'reproduction_rate',\n",
    " 'icu_patients',\n",
    " 'hosp_patients',\n",
    " 'new_tests',\n",
    " 'positive_rate',\n",
    " 'tests_per_case',\n",
    " 'people_vaccinated',\n",
    " 'people_fully_vaccinated',\n",
    " 'total_boosters',\n",
    " 'new_vaccinations',\n",
    " 'excess_mortality_cumulative_absolute',\n",
    " 'excess_mortality_cumulative',\n",
    " 'excess_mortality',\n",
    " 'excess_mortality_cumulative_per_million']].resample('W-FRI', closed='right', offset=pd.Timedelta(days=-2)).sum()\n",
    "\n",
    "now = datetime.now()\n",
    "dt_string = now.strftime(\"%Y-%m-%d-%H-%M-%S\")\n",
    "df_weekly.to_csv(f\"{dt_string}-OWID_weekly.csv\")"
   ]
  }
 ],
 "metadata": {
  "kernelspec": {
   "display_name": "Python 3 (ipykernel)",
   "language": "python",
   "name": "python3"
  },
  "language_info": {
   "codemirror_mode": {
    "name": "ipython",
    "version": 3
   },
   "file_extension": ".py",
   "mimetype": "text/x-python",
   "name": "python",
   "nbconvert_exporter": "python",
   "pygments_lexer": "ipython3",
   "version": "3.9.12"
  }
 },
 "nbformat": 4,
 "nbformat_minor": 5
}
