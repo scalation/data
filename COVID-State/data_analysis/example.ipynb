{
 "cells": [
  {
   "cell_type": "code",
   "execution_count": 1,
   "id": "ee658b78",
   "metadata": {},
   "outputs": [
    {
     "data": {
      "text/html": [
       "        <script type=\"text/javascript\">\n",
       "        window.PlotlyConfig = {MathJaxConfig: 'local'};\n",
       "        if (window.MathJax && window.MathJax.Hub && window.MathJax.Hub.Config) {window.MathJax.Hub.Config({SVG: {font: \"STIX-Web\"}});}\n",
       "        if (typeof require !== 'undefined') {\n",
       "        require.undef(\"plotly\");\n",
       "        requirejs.config({\n",
       "            paths: {\n",
       "                'plotly': ['https://cdn.plot.ly/plotly-2.16.1.min']\n",
       "            }\n",
       "        });\n",
       "        require(['plotly'], function(Plotly) {\n",
       "            window._Plotly = Plotly;\n",
       "        });\n",
       "        }\n",
       "        </script>\n",
       "        "
      ]
     },
     "metadata": {},
     "output_type": "display_data"
    },
    {
     "data": {
      "text/html": [
       "        <script type=\"text/javascript\">\n",
       "        window.PlotlyConfig = {MathJaxConfig: 'local'};\n",
       "        if (window.MathJax && window.MathJax.Hub && window.MathJax.Hub.Config) {window.MathJax.Hub.Config({SVG: {font: \"STIX-Web\"}});}\n",
       "        if (typeof require !== 'undefined') {\n",
       "        require.undef(\"plotly\");\n",
       "        requirejs.config({\n",
       "            paths: {\n",
       "                'plotly': ['https://cdn.plot.ly/plotly-2.16.1.min']\n",
       "            }\n",
       "        });\n",
       "        require(['plotly'], function(Plotly) {\n",
       "            window._Plotly = Plotly;\n",
       "        });\n",
       "        }\n",
       "        </script>\n",
       "        "
      ]
     },
     "metadata": {},
     "output_type": "display_data"
    }
   ],
   "source": [
    "import numpy as np\n",
    "import pandas as pd\n",
    "import utils\n",
    "\n",
    "import chart_studio.plotly as py\n",
    "import cufflinks as cf\n",
    "import plotly.express as px\n",
    "import plotly.graph_objects as go\n",
    "from plotly.offline import download_plotlyjs, init_notebook_mode, plot, iplot\n",
    "init_notebook_mode(connected=True)\n",
    "cf.go_offline()\n",
    "\n",
    "%matplotlib inline\n",
    "%load_ext autoreload\n",
    "%autoreload 2"
   ]
  },
  {
   "cell_type": "code",
   "execution_count": 2,
   "id": "de9ebd70",
   "metadata": {},
   "outputs": [],
   "source": [
    "cdc = pd.read_csv('./data/cdc_2022-11-18-05-12-04.csv')\n",
    "jhu = pd.read_csv('./data/jhu_2022-11-18-05-14-54.csv')"
   ]
  },
  {
   "cell_type": "code",
   "execution_count": 3,
   "id": "81c4c22f",
   "metadata": {},
   "outputs": [
    {
     "name": "stdout",
     "output_type": "stream",
     "text": [
      "CDC start date = 2020-01-22\n",
      "CDC end date = 2022-10-18\n",
      "JHU start date = 2020-04-12\n",
      "JHU end date = 2022-11-17\n",
      "\n",
      "CDC avg rows per state = 1001.0\n",
      "JHU avg rows per state = 950.0\n"
     ]
    }
   ],
   "source": [
    "utils.print_stats(cdc, jhu)"
   ]
  },
  {
   "cell_type": "code",
   "execution_count": 4,
   "id": "b6728f2e",
   "metadata": {},
   "outputs": [],
   "source": [
    "new_cdc, new_jhu = utils.get_common_data(cdc, jhu)"
   ]
  },
  {
   "cell_type": "code",
   "execution_count": 5,
   "id": "eceb103a",
   "metadata": {},
   "outputs": [
    {
     "name": "stdout",
     "output_type": "stream",
     "text": [
      "CDC start date = 2020-04-12\n",
      "CDC end date = 2022-10-18\n",
      "JHU start date = 2020-04-12\n",
      "JHU end date = 2022-10-18\n",
      "\n",
      "CDC avg rows per state = 920.0\n",
      "JHU avg rows per state = 920.0\n"
     ]
    }
   ],
   "source": [
    "utils.print_stats(new_cdc, new_jhu)"
   ]
  },
  {
   "cell_type": "code",
   "execution_count": null,
   "id": "e6f5ebc4",
   "metadata": {},
   "outputs": [],
   "source": []
  }
 ],
 "metadata": {
  "kernelspec": {
   "display_name": "Python 3 (ipykernel)",
   "language": "python",
   "name": "python3"
  },
  "language_info": {
   "codemirror_mode": {
    "name": "ipython",
    "version": 3
   },
   "file_extension": ".py",
   "mimetype": "text/x-python",
   "name": "python",
   "nbconvert_exporter": "python",
   "pygments_lexer": "ipython3",
   "version": "3.9.12"
  },
  "vscode": {
   "interpreter": {
    "hash": "afb55418e9938ed0649d2c98ba081511ec56f250ccfeeeee087809193e0fd117"
   }
  }
 },
 "nbformat": 4,
 "nbformat_minor": 5
}
