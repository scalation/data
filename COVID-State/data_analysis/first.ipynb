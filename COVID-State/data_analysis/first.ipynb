{
 "cells": [
  {
   "cell_type": "code",
   "execution_count": 1,
   "id": "ee658b78",
   "metadata": {},
   "outputs": [],
   "source": [
    "import pandas as pd\n",
    "import utils\n",
    "\n",
    "%load_ext autoreload\n",
    "%autoreload 2"
   ]
  },
  {
   "cell_type": "code",
   "execution_count": 2,
   "id": "de9ebd70",
   "metadata": {},
   "outputs": [],
   "source": [
    "cdc = pd.read_csv('./data/cdc_2022-11-11-13-43-06.csv')\n",
    "jhu = pd.read_csv('./data/jhu_2022-11-11-14-41-03.csv')"
   ]
  },
  {
   "cell_type": "code",
   "execution_count": 3,
   "id": "81c4c22f",
   "metadata": {},
   "outputs": [
    {
     "name": "stdout",
     "output_type": "stream",
     "text": [
      "CDC start date = 2020-01-22\n",
      "CDC end date = 2022-10-18\n",
      "JHU start date = 2020-04-12\n",
      "JHU end date = 2022-11-10\n",
      "\n",
      "CDC avg rows per state = 1001.0\n",
      "JHU avg rows per state = 943.0\n"
     ]
    }
   ],
   "source": [
    "utils.print_stats(cdc, jhu)"
   ]
  },
  {
   "cell_type": "code",
   "execution_count": 4,
   "id": "b6728f2e",
   "metadata": {},
   "outputs": [],
   "source": [
    "new_cdc, new_jhu = utils.get_common_data(cdc, jhu)"
   ]
  },
  {
   "cell_type": "code",
   "execution_count": 5,
   "id": "eceb103a",
   "metadata": {},
   "outputs": [
    {
     "name": "stdout",
     "output_type": "stream",
     "text": [
      "CDC start date = 2020-04-12\n",
      "CDC end date = 2022-10-18\n",
      "JHU start date = 2020-04-12\n",
      "JHU end date = 2022-10-18\n",
      "\n",
      "CDC avg rows per state = 920.0\n",
      "JHU avg rows per state = 920.0\n"
     ]
    }
   ],
   "source": [
    "utils.print_stats(new_cdc, new_jhu)"
   ]
  },
  {
   "cell_type": "code",
   "execution_count": null,
   "id": "214bb180",
   "metadata": {},
   "outputs": [],
   "source": []
  }
 ],
 "metadata": {
  "kernelspec": {
   "display_name": "Python 3 (ipykernel)",
   "language": "python",
   "name": "python3"
  },
  "language_info": {
   "codemirror_mode": {
    "name": "ipython",
    "version": 3
   },
   "file_extension": ".py",
   "mimetype": "text/x-python",
   "name": "python",
   "nbconvert_exporter": "python",
   "pygments_lexer": "ipython3",
   "version": "3.9.12"
  }
 },
 "nbformat": 4,
 "nbformat_minor": 5
}
