{
 "cells": [
  {
   "cell_type": "code",
   "execution_count": 1,
   "id": "ee658b78",
   "metadata": {},
   "outputs": [],
   "source": [
    "import pandas as pd\n",
    "import utils\n",
    "\n",
    "%load_ext autoreload\n",
    "%autoreload 2"
   ]
  },
  {
   "cell_type": "code",
   "execution_count": 2,
   "id": "de9ebd70",
   "metadata": {},
   "outputs": [],
   "source": [
    "cdc = pd.read_csv('./data/cdc_2022-11-11-13-43-06.csv')\n",
    "jhu = pd.read_csv('./data/jhu_2022-11-11-13-44-14.csv')"
   ]
  },
  {
   "cell_type": "code",
   "execution_count": 3,
   "id": "81c4c22f",
   "metadata": {},
   "outputs": [
    {
     "name": "stdout",
     "output_type": "stream",
     "text": [
      "CDC start date = 2020-01-22\n",
      "CDC end date = 2022-10-18\n",
      "JHU start date = 2020-04-12\n",
      "JHU end date = 2022-11-10\n",
      "\n",
      "CDC avg rows per state = 1001.0\n",
      "JHU avg rows per state = 943.0\n"
     ]
    }
   ],
   "source": [
    "utils.print_stats(cdc, jhu)"
   ]
  },
  {
   "cell_type": "code",
   "execution_count": 4,
   "id": "b6728f2e",
   "metadata": {},
   "outputs": [],
   "source": [
    "new_cdc, new_jhu = utils.get_common_data(cdc, jhu)"
   ]
  },
  {
   "cell_type": "code",
   "execution_count": 5,
   "id": "eceb103a",
   "metadata": {},
   "outputs": [
    {
     "name": "stdout",
     "output_type": "stream",
     "text": [
      "CDC start date = 2020-04-12\n",
      "CDC end date = 2022-10-18\n",
      "JHU start date = 2020-04-12\n",
      "JHU end date = 2022-10-18\n",
      "\n",
      "CDC avg rows per state = 920.0\n",
      "JHU avg rows per state = 920.0\n"
     ]
    }
   ],
   "source": [
    "utils.print_stats(new_cdc, new_jhu)"
   ]
  },
  {
   "cell_type": "code",
   "execution_count": 6,
   "id": "885d7c7a",
   "metadata": {},
   "outputs": [
    {
     "data": {
      "text/html": [
       "<div>\n",
       "<style scoped>\n",
       "    .dataframe tbody tr th:only-of-type {\n",
       "        vertical-align: middle;\n",
       "    }\n",
       "\n",
       "    .dataframe tbody tr th {\n",
       "        vertical-align: top;\n",
       "    }\n",
       "\n",
       "    .dataframe thead th {\n",
       "        text-align: right;\n",
       "    }\n",
       "</style>\n",
       "<table border=\"1\" class=\"dataframe\">\n",
       "  <thead>\n",
       "    <tr style=\"text-align: right;\">\n",
       "      <th></th>\n",
       "      <th>Date</th>\n",
       "      <th>State</th>\n",
       "      <th>tot_cases</th>\n",
       "      <th>conf_cases</th>\n",
       "      <th>prob_cases</th>\n",
       "      <th>new_case</th>\n",
       "      <th>pnew_case</th>\n",
       "      <th>tot_death</th>\n",
       "      <th>conf_death</th>\n",
       "      <th>prob_death</th>\n",
       "      <th>new_death</th>\n",
       "      <th>pnew_death</th>\n",
       "      <th>created_at</th>\n",
       "      <th>consent_cases</th>\n",
       "      <th>consent_deaths</th>\n",
       "    </tr>\n",
       "  </thead>\n",
       "  <tbody>\n",
       "    <tr>\n",
       "      <th>0</th>\n",
       "      <td>2020-04-12</td>\n",
       "      <td>AK</td>\n",
       "      <td>272</td>\n",
       "      <td>NaN</td>\n",
       "      <td>NaN</td>\n",
       "      <td>15</td>\n",
       "      <td>NaN</td>\n",
       "      <td>9</td>\n",
       "      <td>NaN</td>\n",
       "      <td>NaN</td>\n",
       "      <td>0</td>\n",
       "      <td>NaN</td>\n",
       "      <td>04/12/2020 12:00:00 AM</td>\n",
       "      <td>NaN</td>\n",
       "      <td>NaN</td>\n",
       "    </tr>\n",
       "    <tr>\n",
       "      <th>1</th>\n",
       "      <td>2020-04-13</td>\n",
       "      <td>AK</td>\n",
       "      <td>277</td>\n",
       "      <td>NaN</td>\n",
       "      <td>NaN</td>\n",
       "      <td>5</td>\n",
       "      <td>NaN</td>\n",
       "      <td>9</td>\n",
       "      <td>NaN</td>\n",
       "      <td>NaN</td>\n",
       "      <td>0</td>\n",
       "      <td>NaN</td>\n",
       "      <td>04/13/2020 12:00:00 AM</td>\n",
       "      <td>NaN</td>\n",
       "      <td>NaN</td>\n",
       "    </tr>\n",
       "    <tr>\n",
       "      <th>2</th>\n",
       "      <td>2020-04-14</td>\n",
       "      <td>AK</td>\n",
       "      <td>285</td>\n",
       "      <td>NaN</td>\n",
       "      <td>NaN</td>\n",
       "      <td>8</td>\n",
       "      <td>NaN</td>\n",
       "      <td>9</td>\n",
       "      <td>NaN</td>\n",
       "      <td>NaN</td>\n",
       "      <td>0</td>\n",
       "      <td>NaN</td>\n",
       "      <td>04/14/2020 12:00:00 AM</td>\n",
       "      <td>NaN</td>\n",
       "      <td>NaN</td>\n",
       "    </tr>\n",
       "    <tr>\n",
       "      <th>3</th>\n",
       "      <td>2020-04-15</td>\n",
       "      <td>AK</td>\n",
       "      <td>293</td>\n",
       "      <td>NaN</td>\n",
       "      <td>NaN</td>\n",
       "      <td>8</td>\n",
       "      <td>NaN</td>\n",
       "      <td>9</td>\n",
       "      <td>NaN</td>\n",
       "      <td>NaN</td>\n",
       "      <td>0</td>\n",
       "      <td>NaN</td>\n",
       "      <td>04/15/2020 12:00:00 AM</td>\n",
       "      <td>NaN</td>\n",
       "      <td>NaN</td>\n",
       "    </tr>\n",
       "    <tr>\n",
       "      <th>4</th>\n",
       "      <td>2020-04-16</td>\n",
       "      <td>AK</td>\n",
       "      <td>300</td>\n",
       "      <td>NaN</td>\n",
       "      <td>NaN</td>\n",
       "      <td>7</td>\n",
       "      <td>NaN</td>\n",
       "      <td>9</td>\n",
       "      <td>NaN</td>\n",
       "      <td>NaN</td>\n",
       "      <td>0</td>\n",
       "      <td>NaN</td>\n",
       "      <td>04/16/2020 12:00:00 AM</td>\n",
       "      <td>NaN</td>\n",
       "      <td>NaN</td>\n",
       "    </tr>\n",
       "  </tbody>\n",
       "</table>\n",
       "</div>"
      ],
      "text/plain": [
       "         Date State  tot_cases  conf_cases  prob_cases  new_case  pnew_case  \\\n",
       "0  2020-04-12    AK        272         NaN         NaN        15        NaN   \n",
       "1  2020-04-13    AK        277         NaN         NaN         5        NaN   \n",
       "2  2020-04-14    AK        285         NaN         NaN         8        NaN   \n",
       "3  2020-04-15    AK        293         NaN         NaN         8        NaN   \n",
       "4  2020-04-16    AK        300         NaN         NaN         7        NaN   \n",
       "\n",
       "   tot_death  conf_death  prob_death  new_death  pnew_death  \\\n",
       "0          9         NaN         NaN          0         NaN   \n",
       "1          9         NaN         NaN          0         NaN   \n",
       "2          9         NaN         NaN          0         NaN   \n",
       "3          9         NaN         NaN          0         NaN   \n",
       "4          9         NaN         NaN          0         NaN   \n",
       "\n",
       "               created_at consent_cases consent_deaths  \n",
       "0  04/12/2020 12:00:00 AM           NaN            NaN  \n",
       "1  04/13/2020 12:00:00 AM           NaN            NaN  \n",
       "2  04/14/2020 12:00:00 AM           NaN            NaN  \n",
       "3  04/15/2020 12:00:00 AM           NaN            NaN  \n",
       "4  04/16/2020 12:00:00 AM           NaN            NaN  "
      ]
     },
     "execution_count": 6,
     "metadata": {},
     "output_type": "execute_result"
    }
   ],
   "source": [
    "new_cdc.head()"
   ]
  },
  {
   "cell_type": "code",
   "execution_count": null,
   "id": "214bb180",
   "metadata": {},
   "outputs": [],
   "source": []
  }
 ],
 "metadata": {
  "kernelspec": {
   "display_name": "Python 3 (ipykernel)",
   "language": "python",
   "name": "python3"
  },
  "language_info": {
   "codemirror_mode": {
    "name": "ipython",
    "version": 3
   },
   "file_extension": ".py",
   "mimetype": "text/x-python",
   "name": "python",
   "nbconvert_exporter": "python",
   "pygments_lexer": "ipython3",
   "version": "3.9.12"
  }
 },
 "nbformat": 4,
 "nbformat_minor": 5
}
